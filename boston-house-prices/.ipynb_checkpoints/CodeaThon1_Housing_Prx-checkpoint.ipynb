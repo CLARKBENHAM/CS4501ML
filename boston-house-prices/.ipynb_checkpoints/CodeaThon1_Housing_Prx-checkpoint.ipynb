{
 "cells": [
  {
   "cell_type": "code",
   "execution_count": 13,
   "metadata": {},
   "outputs": [
    {
     "ename": "SyntaxError",
     "evalue": "unexpected EOF while parsing (<ipython-input-13-fb30609fc542>, line 7)",
     "output_type": "error",
     "traceback": [
      "\u001b[1;36m  File \u001b[1;32m\"<ipython-input-13-fb30609fc542>\"\u001b[1;36m, line \u001b[1;32m7\u001b[0m\n\u001b[1;33m    #data1 = pd.read_csv(dir_path)\u001b[0m\n\u001b[1;37m                                  ^\u001b[0m\n\u001b[1;31mSyntaxError\u001b[0m\u001b[1;31m:\u001b[0m unexpected EOF while parsing\n"
     ]
    }
   ],
   "source": [
    "import pandas as pd\n",
    "import numpy as np\n",
    "import os\n",
    "cwd = os.getcwd()\n",
    "print(cwd, os.path.dirname(os.path.realpath(\"CodeaThon1_Housing_Prx.ipynb\"))\n",
    "#dir_path = os.path.dirname(os.path.realpath(\"housing.csv\"))\n",
    "#data1 = pd.read_csv(dir_path)"
   ]
  }
 ],
 "metadata": {
  "kernelspec": {
   "display_name": "Python 3",
   "language": "python",
   "name": "python3"
  },
  "language_info": {
   "codemirror_mode": {
    "name": "ipython",
    "version": 3
   },
   "file_extension": ".py",
   "mimetype": "text/x-python",
   "name": "python",
   "nbconvert_exporter": "python",
   "pygments_lexer": "ipython3",
   "version": "3.7.0"
  }
 },
 "nbformat": 4,
 "nbformat_minor": 2
}
